{
 "cells": [
  {
   "cell_type": "code",
   "execution_count": 1,
   "metadata": {},
   "outputs": [],
   "source": [
    "import pathpy as pp"
   ]
  },
  {
   "cell_type": "markdown",
   "metadata": {},
   "source": [
    "This notebook shows how to use `pathpy 2.0` to estimate a multi-order model based on origin/destination passenger data, using the example of the London Tube. The data needed to run this notebook can be obtained from the [Rolling Origin Destination Survey (RODS)](https://data.london.gov.uk/dataset/tfl-rolling-origin-and-destination-survey) available from the \"Transport for London\"."
   ]
  },
  {
   "cell_type": "markdown",
   "metadata": {},
   "source": [
    "We first read the topology of the tube network provided in the file `tube.edges`. In this file, every node is a Tube station given in terms of a unique ID. In pathpy, the key abstraction is a path and every edge is simply a path of length one. Thus, we can simply read the edge file as a (trivial) example of a path data set. "
   ]
  },
  {
   "cell_type": "code",
   "execution_count": 2,
   "metadata": {},
   "outputs": [
    {
     "name": "stdout",
     "output_type": "stream",
     "text": [
      "2018-02-09 15:30:05 [Severity.INFO]\tReading edge data ... \n",
      "2018-02-09 15:30:05 [Severity.INFO]\tCalculating sub path statistics ... \n",
      "2018-02-09 15:30:05 [Severity.INFO]\tfinished.\n"
     ]
    }
   ],
   "source": [
    "p = pp.Paths.readEdges('data/tube.edges', separator=' ', undirected=True)"
   ]
  },
  {
   "cell_type": "markdown",
   "metadata": {},
   "source": [
    "Since the origin/destination contain the *names* of Tube stations rather than node IDs, we first need to map the node IDs in the network above to station names. This mapping is provided in the file `tube.nodes`. We read it and generate a mapping dictionary."
   ]
  },
  {
   "cell_type": "code",
   "execution_count": 3,
   "metadata": {},
   "outputs": [],
   "source": [
    "mapping = {}\n",
    "with open('data/tube.nodes', 'r') as f:\n",
    "    line = f.readline()\n",
    "    while line:\n",
    "        fields = line.rstrip().split(';')\n",
    "        mapping[fields[0]] = fields[1]\n",
    "        line = f.readline()"
   ]
  },
  {
   "cell_type": "markdown",
   "metadata": {},
   "source": [
    "We can now use pathpy's projectPaths method to apply the bijective mapping from node IDs to station names: "
   ]
  },
  {
   "cell_type": "code",
   "execution_count": 4,
   "metadata": {},
   "outputs": [],
   "source": [
    "p = p.projectPaths(mapping)"
   ]
  },
  {
   "cell_type": "markdown",
   "metadata": {},
   "source": [
    "To calculate shortest paths, we need a first-order graph representation of the London Tube. We can do this by generating a `HigherOrderNetwork` from the paths (which in our case contains edges). If we don't explicitly specify a higher \n",
    "order k, pathpy generates a first-order graph representation"
   ]
  },
  {
   "cell_type": "code",
   "execution_count": 5,
   "metadata": {},
   "outputs": [],
   "source": [
    "network = pp.HigherOrderNetwork(p)"
   ]
  },
  {
   "cell_type": "markdown",
   "metadata": {},
   "source": [
    "We next read the origin/destination statistics from the file `tube_od.csv`. We can do this using the respective `readFile` function in `pathpy`'s `OriginDestionationPath` class."
   ]
  },
  {
   "cell_type": "code",
   "execution_count": 6,
   "metadata": {},
   "outputs": [
    {
     "name": "stdout",
     "output_type": "stream",
     "text": [
      "2018-02-09 15:30:05 [Severity.INFO]\tReading origin/destination statistics from file ...\n",
      "2018-02-09 15:30:05 [Severity.INFO]\tFinished.\n"
     ]
    }
   ],
   "source": [
    "origin_destination = pp.PathExtraction.OriginDestinationPaths.readFile('data/tube_od.csv', separator=';')"
   ]
  },
  {
   "cell_type": "markdown",
   "metadata": {},
   "source": [
    "Now we have everything needed to extract path statistics. The key idea is that for each origin-destination pair that was observed w times, we assume that passengers traveled along the shortest paths in the network. Note that there can be multiple different shortest paths between the same pair of nodes that have identical length. In this case, we equally distribute integer numbers of observations among all possible shortest paths, i.e. if there are three shortest path `O-A-D`, `O-B-D`, `O-C-D` between origin O and destination D, and we observe the origin-destination pair `O -> D` 7 times, we assume that O-A-D was taken 3 times, while `O-B-D` and `O-B-C` were taken 2 times each. If needed, we can set the parameter `distribute_weight=False` to switch off this behavior, instead randomly picking a single shortest path and assigning all weight to this single path."
   ]
  },
  {
   "cell_type": "code",
   "execution_count": 7,
   "metadata": {},
   "outputs": [
    {
     "name": "stdout",
     "output_type": "stream",
     "text": [
      "2018-02-09 15:30:05 [Severity.INFO]\tCalculating shortest paths in higher-order network (k = 1) ...\n",
      "2018-02-09 15:30:21 [Severity.INFO]\tfinished.\n",
      "2018-02-09 15:30:21 [Severity.INFO]\tStarting origin destination path calculation ...\n",
      "2018-02-09 15:37:12 [Severity.INFO]\tfinished.\n",
      "Total path count: \t\t4295731.0 \n",
      "[Unique / Sub paths / Total]: \t[67015.0 / 177514561.0 / 181810292.0]\n",
      "Nodes:\t\t\t\t268 \n",
      "Edges:\t\t\t\t646\n",
      "Max. path length:\t\t35\n",
      "Avg path length:\t\t6.749005931702893 \n",
      "Paths of length k = 0\t\t0.0 [ 0.0 / 33287645.0 / 33287645.0 ]\n",
      "Paths of length k = 1\t\t200051.0 [ 598.0 / 28791863.0 / 28991914.0 ]\n",
      "Paths of length k = 2\t\t347599.0 [ 976.0 / 24348584.0 / 24696183.0 ]\n",
      "Paths of length k = 3\t\t461483.0 [ 1526.0 / 20139020.0 / 20600503.0 ]\n",
      "Paths of length k = 4\t\t474083.0 [ 2161.0 / 16378339.0 / 16852422.0 ]\n",
      "Paths of length k = 5\t\t486664.0 [ 2854.0 / 13079160.0 / 13565824.0 ]\n",
      "Paths of length k = 6\t\t420703.0 [ 3583.0 / 10332606.0 / 10753309.0 ]\n",
      "Paths of length k = 7\t\t353147.0 [ 4115.0 / 8074311.0 / 8427458.0 ]\n",
      "Paths of length k = 8\t\t303235.0 [ 4417.0 / 6219075.0 / 6522310.0 ]\n",
      "Paths of length k = 9\t\t280530.0 [ 4818.0 / 4689779.0 / 4970309.0 ]\n",
      "Paths of length k = 10\t\t222513.0 [ 4951.0 / 3499030.0 / 3721543.0 ]\n",
      "Paths of length k = 11\t\t179599.0 [ 4900.0 / 2573708.0 / 2753307.0 ]\n",
      "Paths of length k = 12\t\t144049.0 [ 4778.0 / 1863535.0 / 2007584.0 ]\n",
      "Paths of length k = 13\t\t115592.0 [ 4691.0 / 1325868.0 / 1441460.0 ]\n",
      "Paths of length k = 14\t\t84073.0 [ 4148.0 / 935312.0 / 1019385.0 ]\n",
      "Paths of length k = 15\t\t68422.0 [ 3692.0 / 644480.0 / 712902.0 ]\n",
      "Paths of length k = 16\t\t45246.0 [ 3153.0 / 445246.0 / 490492.0 ]\n",
      "Paths of length k = 17\t\t33901.0 [ 2718.0 / 302603.0 / 336504.0 ]\n",
      "Paths of length k = 18\t\t23661.0 [ 2139.0 / 204101.0 / 227762.0 ]\n",
      "Paths of length k = 19\t\t16510.0 [ 1763.0 / 136411.0 / 152921.0 ]\n",
      "Paths of length k = 20\t\t9833.0 [ 1296.0 / 91908.0 / 101741.0 ]\n",
      "Paths of length k = 21\t\t9624.0 [ 1142.0 / 57447.0 / 67071.0 ]\n",
      "Paths of length k = 22\t\t4734.0 [ 747.0 / 37500.0 / 42234.0 ]\n",
      "Paths of length k = 23\t\t3530.0 [ 455.0 / 23491.0 / 27021.0 ]\n",
      "Paths of length k = 24\t\t3015.0 [ 476.0 / 13527.0 / 16542.0 ]\n",
      "Paths of length k = 25\t\t1940.0 [ 373.0 / 7653.0 / 9593.0 ]\n",
      "Paths of length k = 26\t\t497.0 [ 181.0 / 5162.0 / 5659.0 ]\n",
      "Paths of length k = 27\t\t567.0 [ 122.0 / 3098.0 / 3665.0 ]\n",
      "Paths of length k = 28\t\t400.0 [ 82.0 / 1768.0 / 2168.0 ]\n",
      "Paths of length k = 29\t\t225.0 [ 73.0 / 1013.0 / 1238.0 ]\n",
      "Paths of length k = 30\t\t161.0 [ 37.0 / 547.0 / 708.0 ]\n",
      "Paths of length k = 31\t\t50.0 [ 14.0 / 353.0 / 403.0 ]\n",
      "Paths of length k = 32\t\t12.0 [ 7.0 / 247.0 / 259.0 ]\n",
      "Paths of length k = 33\t\t4.0 [ 4.0 / 161.0 / 165.0 ]\n",
      "Paths of length k = 34\t\t73.0 [ 20.0 / 10.0 / 83.0 ]\n",
      "Paths of length k = 35\t\t5.0 [ 5.0 / 0.0 / 5.0 ]\n",
      "\n"
     ]
    }
   ],
   "source": [
    "paths = pp.PathExtraction.OriginDestinationPaths.extract(origin_destination, network)\n",
    "print(paths)"
   ]
  },
  {
   "cell_type": "markdown",
   "metadata": {},
   "source": [
    "We can now create a multi-order model from the generated path statistics "
   ]
  },
  {
   "cell_type": "code",
   "execution_count": 8,
   "metadata": {},
   "outputs": [
    {
     "name": "stdout",
     "output_type": "stream",
     "text": [
      "2018-02-09 15:37:13 [Severity.INFO]\tGenerating 0-th order network layer ...\n",
      "2018-02-09 15:37:13 [Severity.INFO]\tGenerating 1-th order network layer ...\n",
      "2018-02-09 15:37:13 [Severity.INFO]\tGenerating 2-th order network layer ...\n",
      "2018-02-09 15:37:13 [Severity.INFO]\tGenerating 3-th order network layer ...\n",
      "2018-02-09 15:37:13 [Severity.INFO]\tGenerating 4-th order network layer ...\n",
      "2018-02-09 15:37:13 [Severity.INFO]\tGenerating 5-th order network layer ...\n",
      "2018-02-09 15:37:13 [Severity.INFO]\tGenerating 6-th order network layer ...\n",
      "2018-02-09 15:37:13 [Severity.INFO]\tGenerating 7-th order network layer ...\n",
      "2018-02-09 15:37:13 [Severity.INFO]\tfinished.\n"
     ]
    }
   ],
   "source": [
    "m = pp.MultiOrderModel(paths, maxOrder=7)"
   ]
  },
  {
   "cell_type": "markdown",
   "metadata": {},
   "source": [
    "We finally use a representation learning algorithm (presented in the [KDD'17 paper](http://dl.acm.org/citation.cfm?id=3098145) below) to estimate the optimal number of layers of higher-order graphical models needed to model this data set."
   ]
  },
  {
   "cell_type": "code",
   "execution_count": 9,
   "metadata": {},
   "outputs": [
    {
     "name": "stdout",
     "output_type": "stream",
     "text": [
      "2018-02-09 15:38:14 [Severity.INFO]\tLikelihood ratio test for K_opt = 2, x = 31852224.98864612\n",
      "2018-02-09 15:38:14 [Severity.INFO]\tLikelihood ratio test, d_1-d_0 = 1622\n",
      "2018-02-09 15:38:14 [Severity.INFO]\tLikelihood ratio test, p = 0.0\n",
      "2018-02-09 15:39:24 [Severity.INFO]\tLikelihood ratio test for K_opt = 3, x = 1002708.4119753093\n",
      "2018-02-09 15:39:24 [Severity.INFO]\tLikelihood ratio test, d_1-d_0 = 5503\n",
      "2018-02-09 15:39:24 [Severity.INFO]\tLikelihood ratio test, p = 0.0\n",
      "2018-02-09 15:40:43 [Severity.INFO]\tLikelihood ratio test for K_opt = 4, x = 404338.1268621832\n",
      "2018-02-09 15:40:43 [Severity.INFO]\tLikelihood ratio test, d_1-d_0 = 19157\n",
      "2018-02-09 15:40:43 [Severity.INFO]\tLikelihood ratio test, p = 0.0\n",
      "2018-02-09 15:42:16 [Severity.INFO]\tLikelihood ratio test for K_opt = 5, x = 369247.02671541274\n",
      "2018-02-09 15:42:16 [Severity.INFO]\tLikelihood ratio test, d_1-d_0 = 66615\n",
      "2018-02-09 15:42:16 [Severity.INFO]\tLikelihood ratio test, p = 0.0\n",
      "2018-02-09 15:44:07 [Severity.INFO]\tLikelihood ratio test for K_opt = 6, x = 260860.33934786916\n",
      "2018-02-09 15:44:07 [Severity.INFO]\tLikelihood ratio test, d_1-d_0 = 242512\n",
      "2018-02-09 15:44:07 [Severity.INFO]\tLikelihood ratio test, p = 0.0\n",
      "Optimal order of multi-order graph model of London Tube network = 6\n"
     ]
    }
   ],
   "source": [
    "kopt = m.estimateOrder(paths, maxOrder=6)\n",
    "print('Optimal order of multi-order graph model of London Tube network = ' + str(kopt))"
   ]
  },
  {
   "cell_type": "markdown",
   "metadata": {},
   "source": [
    "The result shows that **we need six layers of higher-order graphical models to understand passenger paths in the London Tube**. This highlights that a simple **network model of the London Tube yields misleading results**.\n",
    "\n",
    "For more information on the implications for dynamical processes or node centrality measures please refer to the following recent papers:\n",
    "\n",
    "- I Scholtes: [When is a network a network? Multi-Order Graphical Model Selection in Pathways and Temporal Networks](http://dl.acm.org/citation.cfm?id=3098145), In KDD'17 - Proceedings of the 23rd ACM SIGKDD International Conference on Knowledge Discovery and Data Mining, Halifax, Nova Scotia, Canada, August 13-17, 2017\n",
    "\n",
    "- I Scholtes, N Wider, A Garas: [Higher-Order Aggregate Networks in the Analysis of Temporal Networks: Path structures and centralities](http://link.springer.com/article/10.1140%2Fepjb%2Fe2016-60663-0), The European Physical Journal B, 89:61, March 2016 \n",
    "\n",
    "- I Scholtes, N Wider, R Pfitzner, A Garas, CJ Tessone, F Schweitzer: [Causality-driven slow-down and speed-up of diffusion in non-Markovian temporal networks](http://www.nature.com/ncomms/2014/140924/ncomms6024/full/ncomms6024.html), Nature Communications, 5, September 2014 "
   ]
  }
 ],
 "metadata": {
  "kernelspec": {
   "display_name": "Python 3",
   "language": "python",
   "name": "python3"
  },
  "language_info": {
   "codemirror_mode": {
    "name": "ipython",
    "version": 3
   },
   "file_extension": ".py",
   "mimetype": "text/x-python",
   "name": "python",
   "nbconvert_exporter": "python",
   "pygments_lexer": "ipython3",
   "version": "3.5.4"
  }
 },
 "nbformat": 4,
 "nbformat_minor": 2
}
